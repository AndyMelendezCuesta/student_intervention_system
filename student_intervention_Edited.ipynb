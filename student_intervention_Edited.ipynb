{
 "cells": [
  {
   "cell_type": "markdown",
   "metadata": {},
   "source": [
    "# Project 2: Supervised Learning\n",
    "### Building a Student Intervention System"
   ]
  },
  {
   "cell_type": "markdown",
   "metadata": {},
   "source": [
    "## 1. Classification vs Regression\n",
    "\n",
    "Your goal is to identify students who might need early intervention - which type of supervised machine learning problem is this, classification or regression? Why?"
   ]
  },
  {
   "cell_type": "markdown",
   "metadata": {},
   "source": [
    "**Answer: **\n",
    "\n",
    "In the terminology of machine learning, classification [Statistical classification](https://en.wikipedia.org/wiki/Statistical_classification) is considered an instance of supervised learning, i.e. learning where a training set of correctly identified observations is available. The corresponding unsupervised procedure is known as clustering, and involves grouping data into categories based on some measure of inherent similarity or distance. Based on the definition of classification we can clearly see that this supervised learning problem belongs to classification as our main task is to arrange the students in basically two categories: the students who need early intervention from the ones who are on the right track to graduate. The final goal is to identify the students who need early help so that they can successfuly graduate."
   ]
  },
  {
   "cell_type": "markdown",
   "metadata": {},
   "source": [
    "## 2. Exploring the Data\n",
    "\n",
    "Let's go ahead and read in the student dataset first.\n",
    "\n",
    "_To execute a code cell, click inside it and press **Shift+Enter**._"
   ]
  },
  {
   "cell_type": "code",
   "execution_count": 4,
   "metadata": {
    "collapsed": false
   },
   "outputs": [],
   "source": [
    "# Import libraries\n",
    "import numpy as np\n",
    "import pandas as pd"
   ]
  },
  {
   "cell_type": "code",
   "execution_count": 18,
   "metadata": {
    "collapsed": false
   },
   "outputs": [
    {
     "data": {
      "text/plain": [
       "Student data read successfully!"
      ]
     },
     "execution_count": 18,
     "metadata": {},
     "output_type": "execute_result"
    }
   ],
   "source": [
    "# Read student data\n",
    "student_data = pd.read_csv(\"student-data.csv\")\n",
    "print \"Student data read successfully!\"\n",
    "# Note: The last column 'passed' is the target/label, all other are feature columns"
   ]
  },
  {
   "cell_type": "markdown",
   "metadata": {},
   "source": [
    "Now, can you find out the following facts about the dataset?\n",
    "- Total number of students\n",
    "- Number of students who passed\n",
    "- Number of students who failed\n",
    "- Graduation rate of the class (%)\n",
    "- Number of features\n",
    "\n",
    "_Use the code block below to compute these values. Instructions/steps are marked using **TODO**s._"
   ]
  },
  {
   "cell_type": "code",
   "execution_count": 24,
   "metadata": {
    "collapsed": false
   },
   "outputs": [
    {
     "data": {
      "text/plain": [
       "Total number of students: 395\n",
       "Number of students who passed: 265\n",
       "Number of students who failed: 130\n",
       "Number of features: 30\n",
       "Graduation rate of the class: 67.09%"
      ]
     },
     "execution_count": 24,
     "metadata": {},
     "output_type": "execute_result"
    }
    ],
   "source": [
    "# TODO: Compute desired values - replace each '?' with an appropriate expression/function call\n",
    "n_students = len(student_data.index)\n",
    "n_features = len(student_data.columns)-1\n",
    "n_passed = len(student_data[(student_data[\"passed\"]==\"yes\")])\n",
    "n_failed = len(student_data[(student_data[\"passed\"]==\"no\")])\n",
    "grad_rate = float(n_passed) / float(n_passed+n_failed) * 100.0\n",
    "print \"Total number of students: {}\".format(n_students)\n",
    "print \"Number of students who passed: {}\".format(n_passed)\n",
    "print \"Number of students who failed: {}\".format(n_failed)\n",
    "print \"Number of features: {}\".format(n_features)\n",
    "print \"Graduation rate of the class: {:.2f}%\".format(grad_rate)"
   ]
  },
  {
   "cell_type": "markdown",
   "metadata": {},
   "source": [
    "## 3. Preparing the Data\n",
    "In this section, we will prepare the data for modeling, training and testing.\n",
    "\n",
    "### Identify feature and target columns\n",
    "It is often the case that the data you obtain contains non-numeric features. This can be a problem,\n", 
    "as most machine learning algorithms expect numeric data to perform computations with.\n",
    "\n",
    "Let's first separate our data into feature and target columns, and see if any features are non-numeric.<br/>\n",
    "**Note**: For this dataset, the last column (`passed`) is the target or label we are trying to predict."
   ]
  },
  {
   "cell_type": "code",
   "execution_count": 34,
   "metadata": {
    "collapsed": false
   },
   "outputs": [
    {
     "data": {
      "text/plain": [
       "Feature column(s): ['school', 'sex', 'age', 'address', 'famsize', 'Pstatus', 'Medu',\n",
       "'Fedu', 'Mjob', 'Fjob', 'reason', 'guardian', 'traveltime', 'studytime', 'failures',\n",
       "'schoolsup', 'famsup', 'paid', 'activities', 'nursery', 'higher', 'internet', 'romantic',\n",
       "'famrel', 'freetime', 'goout', 'Dalc', 'Walc', 'health', 'absences']\n",
       "Target column: passed\n",
       "Feature values: \n",
       "  school sex  age address famsize Pstatus  Medu  Fedu     Mjob      Fjob  \\\n",
       "0     GP   F   18       U     GT3       A     4     4  at_home   teacher\n",   
       "1     GP   F   17       U     GT3       T     1     1  at_home     other\n",  
       "2     GP   F   15       U     LE3       T     1     1  at_home     other\n",   
       "3     GP   F   15       U     GT3       T     4     2   health  services\n",  
       "4     GP   F   16       U     GT3       T     3     3    other     other\n",  
       "\n",
       "    ...    higher internet  romantic  famrel  freetime goout Dalc Walc health  \\\n",
       "0   ...       yes       no        no       4         3     4    1    1      3\n",  
       "1   ...       yes      yes        no       5         3     3    1    1      3\n",   
       "2   ...       yes      yes        no       4         3     2    2    3      3\n",  
       "3   ...       yes      yes       yes       3         2     2    1    1      5\n",   
       "4   ...       yes       no        no       4         3     2    1    2      5\n",   
       "\n",
       "  absences\n",  
       "0        6\n",  
       "1        4\n",  
       "2       10\n",  
       "3        2\n",
       "4        4\n",
       "\n",
       "[5 rows x 30 columns]"
      ]
     },
     "execution_count": 34,
     "metadata": {},
     "output_type": "execute_result"
    }
   ],
   "source": [
    "# Extract feature (X) and target (y) columns\n",
    "\n",
    "# all columns but last are features:\n",
    "feature_cols = list(student_data.columns[:-1])\n",
    "target_col = student_data.columns[-1]  # last column is the target/label\n",
    "print \"Feature column(s):-\\n{}\".format(feature_cols)\n",
    "print \"Target column: {}\".format(target_col)\n",
    "\n",
    "# feature values for all students:\n",
    "X_all = student_data[feature_cols]\n",
    "# corresponding targets/labels: \n",
    "y_all = student_data[target_col].replace(['yes', 'no'], [1, 0])\n",
    "print \"\\nFeature values:-\"\n",
    "\n",
    "# print the first 5 rows:\n",
    "print X_all.head()  # print the first 5 rows"
   ]
  },
  {
   "cell_type": "markdown",
   "metadata": {},
   "source": [
    "### Preprocess feature columns\n",
    "\n",
    "As you can see, there are several non-numeric columns that need to be converted! Many of them are simply `yes`/`no`, e.g. `internet`. These can be reasonably converted into `1`/`0` (binary) values.\n",
    "\n",
    "Other columns, like `Mjob` and `Fjob`, have more than two values, and are known as _categorical variables_. The recommended way to handle such a column is to create as many columns as possible values (e.g. `Fjob_teacher`, `Fjob_other`, `Fjob_services`, etc.), and assign a `1` to one of them and `0` to all others.\n",
    "\n",
    "These generated columns are sometimes called _dummy variables_, and we will use the [`pandas.get_dummies()`](http://pandas.pydata.org/pandas-docs/stable/generated/pandas.get_dummies.html?highlight=get_dummies#pandas.get_dummies) function to perform this transformation."
   ]
  },
  {
   "cell_type": "code",
   "execution_count": 44,
   "metadata": {
    "collapsed": false
   },
   "outputs": [
    {
     "data": {
      "text/plain": [
       "Processed feature columns (48):-\n",
       "['school_GP', 'school_MS', 'sex_F', 'sex_M', 'age', 'address_R', 'address_U',\n",
       "'famsize_GT3', 'famsize_LE3', 'Pstatus_A', 'Pstatus_T', 'Medu', 'Fedu', 'Mjob_at_home',\n",
       "'Mjob_health', 'Mjob_other', 'Mjob_services', 'Mjob_teacher', 'Fjob_at_home', 'Fjob_health',\n",
       "'Fjob_other', 'Fjob_services', 'Fjob_teacher', 'reason_course', 'reason_home', 'reason_other',\n",
       "'reason_reputation', 'guardian_father', 'guardian_mother', 'guardian_other', 'traveltime',\n",
       "'studytime', 'failures', 'schoolsup', 'famsup', 'paid', 'activities', 'nursery', 'higher',\n",
       "'internet', 'romantic', 'famrel', 'freetime', 'goout', 'Dalc', 'Walc', 'health', 'absences']"
      ]
     },
     "execution_count": 44,
     "metadata": {},
     "output_type": "execute_result"
    }
    ],
   "source": [
    "# Preprocess feature columns\n",
    "def preprocess_features(X):\n",
    "    outX = pd.DataFrame(index=X.index)  # output dataframe, initially empty\n",
    "\n",
    "    # Check each column\n",
    "    for col, col_data in X.iteritems():\n",
    "        # If data type is non-numeric, try to replace all yes/no values with 1/0\n",
    "        if col_data.dtype == object:\n",
    "            col_data = col_data.replace(['yes', 'no'], [1, 0])\n",
    "        # Note: This should change the data type for yes/no columns to int\n",
    "\n",
    "        # If still non-numeric, convert to one or more dummy variables\n",
    "        if col_data.dtype == object:\n",
    "            col_data = pd.get_dummies(col_data, prefix=col)\n",
    "            # e.g. 'school' => 'school_GP', 'school_MS'\n",
    "\n",
    "        outX = outX.join(col_data) # collect column(s) in output dataframe\n",
    "\n",
    "    return outX\n",
    "\n",
    "X_all = preprocess_features(X_all)\n",
    "print \"Processed feature columns ({}):-\\n{}\".format(len(X_all.columns), list(X_all.columns))"
   ]
  },
  {
   "cell_type": "markdown",
   "metadata": {},
   "source": [
    "### Split data into training and test sets\n",
    "\n",
    "So far, we have converted all _categorical_ features into numeric values. In this next step, we split the data (both features and corresponding labels) into training and test sets."
   ]
  },
  {
   "cell_type": "code",
   "execution_count": 59,
   "metadata": {
    "collapsed": false
   },
   "outputs": [],
   "source": [
    "from sklearn.cross_validation import StratifiedShuffleSplit\n",
    "\n",
    "def strat_shuffle_split(features_data, target_data):\n",
    "    #Shuffling data to avoid any ordering bias in the dataset\n",
    "\n",
    "    num_size = 95\n",
    "    sss = StratifiedShuffleSplit(target_data, test_size=num_size, n_iter = 50,random_state=42)\n",
    "\n",
    "    for train_index, test_index in sss:\n",
    "       X_train, X_test = features_data.iloc[train_index], features_data.iloc[test_index]\n",
    "       y_train, y_test = target_data[train_index], target_data[test_index]\n",
    "\n",
    "    return X_train, y_train, X_test, y_test"
   ]
  },
  {
   "cell_type": "code",
   "execution_count": 184,
   "metadata": {
    "collapsed": false
   },
   "outputs": [
    {
     "data": {
      "text/plain": [
       "Training set: 300 samples\n",
       "Test set: 95 samples"
      ]
     },
     "execution_count": 184,
     "metadata": {},
     "output_type": "execute_result"
    }
   ],
   "source": [
    "# First, decide how many training vs test samples you want\n",
    "#num_all = student_data.shape[0]  # same as len(student_data)\n",
    "#num_train = 300  # about 75% of the data\n",
    "#num_test = num_all - num_train\n",
    "\n",
    "# TODO: Then, select features (X) and corresponding labels (y) for the training and test sets\n",
    "# Note: Shuffle the data or randomly select samples to avoid any bias due to ordering in the\n",
    "#       dataset\n",
    "\n",
    "features_data = X_all\n",
    "target_data = y_all\n",
    "\n",
    "#Stratified shuffle split\n",
    "X_train, y_train, X_test, y_test = strat_shuffle_split(features_data, target_data)\n",
    "print \"Training set: {} samples\".format(X_train.shape[0])\n",
    "print \"Test set: {} samples\".format(X_test.shape[0])\n",
    "# Note: If you need a validation set, extract it from within training data"
   ]
  },
  {
   "cell_type": "markdown",
   "metadata": {},
   "source": [
    "## 4. Training and Evaluating Models\n",
    "Choose 3 supervised learning models that are available in scikit-learn, and appropriate for this problem. For each model:\n",
    "\n",
    "- What are the general applications of this model? What are its strengths and weaknesses?\n",
    "- Given what you know about the data so far, why did you choose this model to apply?\n",
    "- Fit this model to the training data, try to predict labels (for both training and test sets), and measure the F<sub>1</sub> score. Repeat this process with different training set sizes (100, 200, 300), keeping test set constant.\n",
    "\n",
    "Produce a table showing training time, prediction time, F<sub>1</sub> score on training set and F<sub>1</sub> score on test set, for each training set size.\n",
    "\n",
    "Note: You need to produce 3 such tables - one for each model."
   ]
  },
  {
   "cell_type": "code",
   "execution_count": 78,
   "metadata": {
    "collapsed": false
   },
   "outputs": [
    {
     "data": {
      "text/plain": [
       "Training SVC...\n",
       "Done!\n",
       "Training time (secs): 0.057"
      ]
     },
     "execution_count": 78,
     "metadata": {},
     "output_type": "execute_result"
    }
    ],
   "source": [
    "# Train a model\n",
    "import time\n",
    "\n",
    "def train_classifier(clf, X_train, y_train):\n",
    "    print \"Training {}...\".format(clf.__class__.__name__)\n",
    "    start = time.time()\n",
    "    clf.fit(X_train, y_train)\n",
    "    end = time.time()\n",
    "    print \"Done!\\nTraining time (secs): {:.3f}\".format(end - start)\n",
    "\n",
    "# TODO: Choose a model, import it and instantiate an object\n",
    "from sklearn.svm import SVC #for Model 1\n",
    "SVM_clf = SVC()\n",
    "\n",
    "# Fit model to training data\n",
    "train_classifier(SVM_clf, X_train, y_train)  # note: using entire training set here\n",
    "#print SVM_clf  # you can inspect the learned model by printing it"
   ]
  },
  {
   "cell_type": "code",
   "execution_count": 101,
   "metadata": {
    "collapsed": false
   },
   "outputs": [
    {
     "data": {
      "text/plain": [
       "Predicting labels using SVC...\n",
       "Done!\n",
       "Prediction time (secs): 0.012\n",
       "F1 score for training set: 0.851694915254"
      ]
     },
     "execution_count": 101,
     "metadata": {},
     "output_type": "execute_result"
    }
   ],
   "source": [
    "# Predict on training set and compute F1 score\n",
    "from sklearn.metrics import f1_score\n",
    "\n",
    "def predict_labels(clf, features, target):\n",
    "    print \"Predicting labels using {}...\".format(clf.__class__.__name__)\n",
    "    start = time.time()\n",
    "    y_pred = clf.predict(features)\n",
    "    end = time.time()\n",
    "    print \"Done!\\nPrediction time (secs): {:.3f}\".format(end - start)\n",
    "    return f1_score(target.values, y_pred, pos_label=1)\n",
    "\n",
    "train_f1_score = predict_labels(SVM_clf, X_train, y_train)\n",
    "print \"F1 score for training set: {}\".format(train_f1_score)"
   ]
  },
  {
   "cell_type": "code",
   "execution_count": 115,
   "metadata": {
    "collapsed": false
   },
   "outputs": [
    {
     "data": {
      "text/plain": [
       "Predicting labels using SVC...\n",
       "Done!\n",
       "Prediction time (secs): 0.002\n",
       "F1 score for test set: 0.829931972789"
      ]
     },
     "execution_count": 115,
     "metadata": {},
     "output_type": "execute_result"
    }
    ],
   "source": [
    "# Predict on test data\n",
    "print \"F1 score for test set: {}\".format(predict_labels(SVM_clf, X_test, y_test))"
   ]
  },
  {
   "cell_type": "code",
   "execution_count": 78,
   "metadata": {
    "collapsed": false
   },
   "outputs": [
    {
     "data": {
      "text/plain": [
       "Training RandomForestClassifier...\n",
       "Done!\n",
       "Training time (secs): 0.134\n",
       "Predicting labels using RandomForestClassifier...\n",
       "Done!\n",
       "Prediction time (secs): 0.004\n",
       "F1 score for training set: 1.0\n",
       "Predicting labels using SVC...\n",
       "Done!\n",
       "Prediction time (secs): 0.003\n",
       "F1 score for test set: 0.829931972789\n",
       "--------------------------------------\n",
       "Training BaggingClassifier...\n",
       "Done!\n",
       "Training time (secs): 0.052\n",
       "Predicting labels using BaggingClassifier...\n",
       "Done!\n",
       "Prediction time (secs): 0.032\n",
       "F1 score for training set: 0.864142538976\n",
       "Predicting labels using SVC...\n",
       "Done!\n",
       "Prediction time (secs): 0.003\n",
       "F1 score for test set: 0.829931972789"
      ]
     },
     "execution_count": 78,
     "metadata": {},
     "output_type": "execute_result"
    }
   ],
   "source": [
    "# TODO: Train and predict using two other models\n",
    "\n",
    "#Model #2\n",
    "# TODO: Choose a model, import it and instantiate an object\n",
    "from sklearn.ensemble import RandomForestClassifier #for Model #2\n",
    "RF_clf = RandomForestClassifier(n_estimators=15)\n",
    "\n",
    "# Fit model to training data\n",
    "train_classifier(RF_clf, X_train, y_train)  # note: using entire training set here\n",
    "#print clf  # you can inspect the learned model by printing it\n",
    "\n",
    "train_f1_score = predict_labels(RF_clf, X_train, y_train)\n",
    "print \"F1 score for training set: {}\".format(train_f1_score)\n",
    "# Predict on test data\n",
    "print \"F1 score for test set: {}\".format(predict_labels(SVM_clf, X_test, y_test))\n",
    "\n",
    "print \"--------------------------------------\"\n",
    "\n",
    "#Model #3\n",
    "# TODO: Choose a model, import it and instantiate an object\n",
    "from sklearn.neighbors import KNeighborsClassifier #for Model 3\n",
    "from sklearn.ensemble import BaggingClassifier\n",
    "bagging_clf = BaggingClassifier(KNeighborsClassifier(n_neighbors=3),\n",
    "max_samples=0.5, max_features=0.5)\n",
    "\n",
    "# Fit model to training data\n",
    "train_classifier(bagging_clf, X_train, y_train)  # note: using entire training set here\n",
    "#print clf  # you can inspect the learned model by printing it\n",
    "\n",
    "train_f1_score = predict_labels(bagging_clf, X_train, y_train)\n",
    "print \"F1 score for training set: {}\".format(train_f1_score)\n",
    "# Predict on test data\n",
    "print \"F1 score for test set: {}\".format(predict_labels(SVM_clf, X_test, y_test))"
   ]
  },
  {
   "cell_type": "code",
   "execution_count": 111,
   "metadata": {
    "collapsed": false
   },
   "outputs": [
    {
     "data": {
      "text/plain": [
       "%%%%%%%%%%%%%%%%%%%%%%%%%%%%%%%%%%%%%%%%\n",
       "Testing Model SVM classifier\n",
       "%%%%%%%%%%%%%%%%%%%%%%%%%%%%%%%%%%%%%%%%\n",
       "------------------------------------------\n",
       "Training set size: 100\n",
       "Training SVC...\n",
       "Done!\n",
       "Training time (secs): 0.002\n",
       "Predicting labels using SVC...\n",
       "Done!\n",
       "Prediction time (secs): 0.001\n",
       "F1 score for training set: 0.878048780488\n",
       "Predicting labels using SVC...\n",
       "Done!\n",
       "Prediction time (secs): 0.003\n",
       "F1 score for test set: 0.802494802495\n",
       "------------------------------------------\n",
       "Training set size: 200\n",
       "Training SVC...\n",
       "Done!\n",
       "Training time (secs): 0.006\n",
       "Predicting labels using SVC...\n",
       "Done!\n",
       "Prediction time (secs): 0.004\n",
       "F1 score for training set: 0.879725085911\n",
       "Predicting labels using SVC...\n",
       "Done!\n",
       "Prediction time (secs): 0.004\n",
       "F1 score for test set: 0.84076433121\n",
       "------------------------------------------\n",
       "Training set size: 300\n",
       "Training SVC...\n",
       "Done!\n",
       "Training time (secs): 0.011\n",
       "Predicting labels using SVC...\n",
       "Done!\n",
       "Prediction time (secs): 0.008\n",
       "F1 score for training set: 0.872570194384\n",
       "Predicting labels using SVC...\n",
       "Done!\n",
       "Prediction time (secs): 0.003\n",
       "F1 score for test set: 0.8\n",
       "%%%%%%%%%%%%%%%%%%%%%%%%%%%%%%%%%%%%%%%%\n",
       "Testing Model Randomized Forest\n",
       "%%%%%%%%%%%%%%%%%%%%%%%%%%%%%%%%%%%%%%%%\n",
       "------------------------------------------\n",
       "Training set size: 100\n",
       "Training RandomForestClassifier...\n",
       "Done!\n",
       "Training time (secs): 0.064\n",
       "Predicting labels using RandomForestClassifier...\n",
       "Done!\n",
       "Prediction time (secs): 0.003\n",
       "F1 score for training set: 0.992125984252\n",
       "Predicting labels using RandomForestClassifier...\n",
       "Done!\n",
       "Prediction time (secs): 0.003\n",
       "F1 score for test set: 0.755980861244\n",
       "------------------------------------------\n",
       "Training set size: 200\n",
       "Training RandomForestClassifier...\n",
       "Done!\n",
       "Training time (secs): 0.067\n",
       "Predicting labels using RandomForestClassifier...\n",
       "Done!\n",
       "Prediction time (secs): 0.003\n",
       "F1 score for training set: 0.992592592593\n",
       "Predicting labels using RandomForestClassifier...\n",
       "Done!\n",
       "Prediction time (secs): 0.003\n",
       "F1 score for test set: 0.766550522648\n",
       "------------------------------------------\n",
       "Training set size: 300\n",
       "Training RandomForestClassifier...\n",
       "Done!\n",
       "Training time (secs): 0.070\n",
       "Predicting labels using RandomForestClassifier...\n",
       "Done!\n",
       "Prediction time (secs): 0.003\n",
       "F1 score for training set: 0.997566909976\n",
       "Predicting labels using RandomForestClassifier...\n",
       "Done!\n",
       "Prediction time (secs): 0.003\n",
       "F1 score for test set: 0.797101449275\n",
       "%%%%%%%%%%%%%%%%%%%%%%%%%%%%%%%%%%%%%%%%\n",
       "Testing Model Bagging Classifier with KNN\n",
       "%%%%%%%%%%%%%%%%%%%%%%%%%%%%%%%%%%%%%%%%\n",
       "------------------------------------------\n",
       "Training set size: 100\n",
       "Training BaggingClassifier...\n",
       "Done!\n",
       "Training time (secs): 0.036\n",
       "Predicting labels using BaggingClassifier...\n",
       "Done!\n",
       "Prediction time (secs): 0.010\n",
       "F1 score for training set: 0.842767295597\n",
       "Predicting labels using BaggingClassifier...\n",
       "Done!\n",
       "Prediction time (secs): 0.018\n",
       "F1 score for test set: 0.805970149254\n",
       "------------------------------------------\n",
       "Training set size: 200\n",
       "Training BaggingClassifier...\n",
       "Done!\n",
       "Training time (secs): 0.037\n",
       "Predicting labels using BaggingClassifier...\n",
       "Done!\n",
       "Prediction time (secs): 0.018\n",
       "F1 score for training set: 0.860927152318\n",
       "Predicting labels using BaggingClassifier...\n",
       "Done!\n",
       "Prediction time (secs): 0.018\n",
       "F1 score for test set: 0.766666666667\n",
       "------------------------------------------\n",
       "Training set size: 300\n",
       "Training BaggingClassifier...\n",
       "Done!\n",
       "Training time (secs): 0.036\n",
       "Predicting labels using BaggingClassifier...\n",
       "Done!\n",
       "Prediction time (secs): 0.035\n",
       "F1 score for training set: 0.864745011086\n",
       "Predicting labels using BaggingClassifier...\n",
       "Done!\n",
       "Prediction time (secs): 0.017\n",
       "F1 score for test set: 0.821917808219"
      ]
     },
     "execution_count": 111,
     "metadata": {},
     "output_type": "execute_result"
    }
   ],
   "source": [
    "# Train and predict using different training set sizes\n",
    "from sklearn.cross_validation import train_test_split\n",
    "\n",
    "def train_predict(clf, X_train, y_train, X_test, y_test, grid=False):\n",
    "    print \"------------------------------------------\"\n",
    "    print \"Training set size: {}\".format(len(X_train))\n",
    "    train_classifier(clf, X_train, y_train)\n",
    "    print \"F1 score for training set: {}\".format(predict_labels(clf, X_train, y_train))\n",
    "    print \"F1 score for test set: {}\".format(predict_labels(clf, X_test, y_test))\n",
    "\n",
    "def split_data(X, y, num_train):\n",
    "    #Split data according to num_train\n",
    "    X_train, X_test, y_train, y_test = train_test_split(X, y, train_size=num_train)\n",
    "    return X_train, y_train, X_test, y_test\n",
    "\n",
    "# TODO: Run the helper function above for desired subsets of training data\n",
    "def create_table(train_num, models, X, y):\n",
    "    #loop\n",
    "    for model_name, model in models.items():\n",
    "        print \"%%%%%%%%%%%%%%%%%%%%%%%%%%%%%%%%%%%%%%%%\"\n",
    "        print \"Testing Model \" + model_name\n",
    "        print \"%%%%%%%%%%%%%%%%%%%%%%%%%%%%%%%%%%%%%%%%\"\n",
    "        for size in train_num:\n",
    "            # Split data\n",
    "            X_train, y_train, X_test, y_test = split_data(X, y, size)\n",
    "            train_predict(model, X_train[:size], y_train[:size], X_test, y_test, False)\n",
    "\n",
    "# Note: Keep the test set constant\n",
    "\n",
    "#With training sizes 100, 200, 300\n",
    "train_num = [100, 200, 300]\n",
    "\n",
    "#models\n",
    "models = {\"SVM classifier\": SVM_clf, \\\n",
    "         \"Randomized Forest\": RF_clf, \"Bagging Classifier with KNN\": bagging_clf}\n",
    "\n",
    "#create table\n",
    "create_table(train_num, models, X_all, y_all)"
   ]
  },
  {
   "cell_type": "markdown",
   "metadata": {},
   "source": [
    "**Model 1: **\n",
    "\n",
    "- What are the general applications of this model? What are its strengths and weaknesses?\n",
    "  * The general applications of SVM classifier (Testing Model) are that it can be applied to classification, anomalies detection, and regression problems. [SVM classifier](https://www.safaribooksonline.com/library/view/scala-for-machine/9781783558742/ch08s03.html)\n",
    "\n",
    "  * The strengths of SVM classifier (Testing Model) are that it is accurate and less overfitting, robust to noise. [SVM strengths](http://condor.depaul.edu/ntomuro/courses/578/notes/SVM-overview.pdf)\n",
    "\n",
    " * The weaknesses of SVM classifier (Testing Model) are that it is computationally expensive, thus runs slow SVM. Also it is a binary classifier. To do a multi-class classification, pair-wise classifications can be used (one class against all others, for all classes). [SVM weaknesses](http://condor.depaul.edu/ntomuro/courses/578/notes/SVM-overview.pdf)\n",
    "\n",
    "\n",
    "- Given what you know about the data so far, why did you choose this model to apply?\n",
    " * I chose the SVM classifier (Testing Model) to apply because I followed the logic of the Machine Learning scikit-learn diagram [ML scikit-learn diagram](http://scikit-learn.org/stable/tutorial/machine_learning_map/). Given that I count with less than 100k samples, that I am working with non text data, and that in the KNearest neighbors K-nearest neighbours the model can not be interpreted (there is no description of the learned concepts), I chose to work with the SVM nonlinear classifier. \n",
    "\n",
    "\n",
    "- Fit this model to the training data, try to predict labels (for both training and test sets), and measure the F<sub>1</sub> score. Repeat this process with different training set sizes (100, 200, 300), keeping test set constant.\n\n",
    "Produce a table showing training time, prediction time, F<sub>1</sub> score on training set and F<sub>1</sub> score on test set, for each training set size."
   ]
  },
  {
   "cell_type": "code",
   "execution_count": 214,
   "metadata": {
    "collapsed": false
   },
   "outputs": [
    {
     "data": {
      "text/plain": [
       "%%%%%%%%%%%%%%%%%%%%%%%%%%%%%%%%%%%%%%%%\n",
       "Testing Model SVM classifier\n",
       "%%%%%%%%%%%%%%%%%%%%%%%%%%%%%%%%%%%%%%%%\n",
       "------------------------------------------\n",
       "Training set size: 100\n",
       "Training SVC...\n",
       "Done!\n",
       "Training time (secs): 0.002\n",
       "Predicting labels using SVC...\n",
       "Done!\n",
       "Prediction time (secs): 0.001\n",
       "F1 score for training set: 0.878048780488\n",
       "Predicting labels using SVC...\n",
       "Done!\n",
       "Prediction time (secs): 0.003\n",
       "F1 score for test set: 0.802494802495\n",
       "------------------------------------------\n",
       "Training set size: 200\n",
       "Training SVC...\n",
       "Done!\n",
       "Training time (secs): 0.006\n",
       "Predicting labels using SVC...\n",
       "Done!\n",
       "Prediction time (secs): 0.004\n",
       "F1 score for training set: 0.879725085911\n",
       "Predicting labels using SVC...\n",
       "Done!\n",
       "Prediction time (secs): 0.004\n",
       "F1 score for test set: 0.84076433121\n",
       "------------------------------------------\n",
       "Training set size: 300\n",
       "Training SVC...\n",
       "Done!\n",
       "Training time (secs): 0.011\n",
       "Predicting labels using SVC...\n",
       "Done!\n",
       "Prediction time (secs): 0.008\n",
       "F1 score for training set: 0.872570194384\n",
       "Predicting labels using SVC...\n",
       "Done!\n",
       "Prediction time (secs): 0.003\n",
       "F1 score for test set: 0.8"
      ]
     },
     "execution_count": 214,
     "metadata": {},
     "output_type": "execute_result"
    }
   ],
   "source": [
    "#With training sizes 100, 200, 300\n",
    "train_num = [100, 200, 300]\n",
    "\n",
    "#models\n",
    "models = {\"SVM classifier\": SVM_clf, \\\n",
    "         \"Randomized Forest\": RF_clf, \"Bagging Classifier with KNN\": bagging_clf}\n",
    "\n",
    "#create table\n",
    "create_table(train_num, models, X_all, y_all)\n",
    "\n",
    "#Below I am only showing the table from the Model #1 (SVM classifier)"
   ]
  },
  {
   "cell_type": "markdown",
   "metadata": {},
   "source": [
    "**Model 2: **\n",
    "\n",
    "- What are the general applications of this model? What are its strengths and weaknesses?\n",
    "  * The general applications of RandomForestClassifier (Testing Model) are for complex classification tasks.\n",
    "\n",
    "  * The [strengths of RandomForestClassifier](http://www.alglib.net/dataanalysis/decisionforest.php#header1) (Testing Model) are: \n\n",
    "    -High training speed\n\n",
    "    -Noniterative training: the algorithm is completed at a fixed number of operations\n\n",
    "    -Scalability (capacity for processing large data volumes)\n\n",
    "    -High quality of the models derived (comparable with neural networks and neural network ensembles)\n\n",
    "    -Small quantity of parameters to be adjusted\n\n",
    "    -Internal estimate of the model's generalization error\n",
    "\n",
    "  * The [weaknesses of RandomForestClassifier](http://www.alglib.net/dataanalysis/decisionforest.php#header1) (Testing Model) are: \n\n",
    "    -The built model takes a large memory capacity. If a committee is set up of K trees based on a training set of the dimension N, then memory requirements will amount to O(K·N). For example, with K=100 and N=1000, the model built by the ALGLIB will have a size about one megabyte.\n\n",
    "    -The trained model works somewhat slower than other algorithms (if 100 trees are incorporated into the model, then we should go over all of them, to get a result).\n\n",
    "    -The algorithm is prone to overfitting, especially when used on a noisy task. This problem can partly be overcome by adjusting the parameter r (see below). A similar, only more apparent, problem is encountered in the original Random Forest algorithm (See Machine Learning Benchmarks and Random Forest Regression). It should be noted that its authors failed to notice this disadvantage, believing that the algorithm had no tendency to overfit, and some practitioners and theoreticians in machine learning share that wrong belief.\n\n",
    "    -Similar to decision trees, the algorithm has absolutely no capacity for extrapolation.\n",
    "\n",
    "\n",
    "- Given what you know about the data so far, why did you choose this model to apply?\n",
    "  * I chose the SVM RandomForestClassifier (Testing Model) to apply because of its high training speed and the small quantity of parameters to be adjusted\n",
    "\n",
    "\n",
    "- Fit this model to the training data, try to predict labels (for both training and test sets), and measure the F<sub>1</sub> score. Repeat this process with different training set sizes (100, 200, 300), keeping test set constant.\n\n",
    "Produce a table showing training time, prediction time, F<sub>1</sub> score on training set and F<sub>1</sub> score on test set, for each training set size."
   ]
  },
  {
   "cell_type": "code",
   "execution_count": 214,
   "metadata": {
    "collapsed": false
   },
   "outputs": [
    {
     "data": {
      "text/plain": [
       "%%%%%%%%%%%%%%%%%%%%%%%%%%%%%%%%%%%%%%%%\n",
       "Testing Model Randomized Forest\n",
       "%%%%%%%%%%%%%%%%%%%%%%%%%%%%%%%%%%%%%%%%\n",
       "------------------------------------------\n",
       "Training set size: 100\n",
       "Training RandomForestClassifier...\n",
       "Done!\n",
       "Training time (secs): 0.064\n",
       "Predicting labels using RandomForestClassifier...\n",
       "Done!\n",
       "Prediction time (secs): 0.003\n",
       "F1 score for training set: 0.992125984252\n",
       "Predicting labels using RandomForestClassifier...\n",
       "Done!\n",
       "Prediction time (secs): 0.003\n",
       "F1 score for test set: 0.755980861244\n",
       "------------------------------------------\n",
       "Training set size: 200\n",
       "Training RandomForestClassifier...\n",
       "Done!\n",
       "Training time (secs): 0.067\n",
       "Predicting labels using RandomForestClassifier...\n",
       "Done!\n",
       "Prediction time (secs): 0.003\n",
       "F1 score for training set: 0.992592592593\n",
       "Predicting labels using RandomForestClassifier...\n",
       "Done!\n",
       "Prediction time (secs): 0.003\n",
       "F1 score for test set: 0.766550522648\n",
       "------------------------------------------\n",
       "Training set size: 300\n",
       "Training RandomForestClassifier...\n",
       "Done!\n",
       "Training time (secs): 0.070\n",
       "Predicting labels using RandomForestClassifier...\n",
       "Done!\n",
       "Prediction time (secs): 0.003\n",
       "F1 score for training set: 0.997566909976\n",
       "Predicting labels using RandomForestClassifier...\n",
       "Done!\n",
       "Prediction time (secs): 0.003\n",
       "F1 score for test set: 0.797101449275"
      ]
     },
     "execution_count": 214,
     "metadata": {},
     "output_type": "execute_result"
    }
   ],
   "source": [
    "#With training sizes 100, 200, 300\n",
    "train_num = [100, 200, 300]\n",
    "\n",
    "#models\n",
    "models = {\"SVM classifier\": SVM_clf, \\\n",
    "         \"Randomized Forest\": RF_clf, \"Bagging Classifier with KNN\": bagging_clf}\n",
    "\n",
    "#create table\n",
    "create_table(train_num, models, X_all, y_all)\n",
    "\n",
    "#Below is Model #2 (Random Forest classifier)"
   ]
  },
  {
   "cell_type": "markdown",
   "metadata": {},
   "source": [
    "**Model 3: **\n",
    "\n",
    "- What are the general applications of this model? What are its strengths and weaknesses?\n\n",
    "  * The general applications of Bagging Classifier with KNN (Testing Model) are for decision tree methods, although it can be used with any type of method.\n\n",
    "  * The strengths of Bagging Classifier with KNN (Testing Model) are that it helps to avoid overfitting and reduces variance.\n\n",
    "  * The weaknesses of Bagging Classifier with KNN (Testing Model) are the loss of simplicity [weakness#1](https://uni-obuda.hu/journal/Machova_Barcak_Bednar_6.pdf) and that it can mildly degrade the performance of stable methods such as K-nearest neighbors (Breiman, 1996) [weakness#2](https://en.wikipedia.org/wiki/Bootstrap_aggregating)\n",
    "\n",
    "\n",
    "- Given what you know about the data so far, why did you choose this model to apply?\n",
    "  * I chose the Bagging Classifier with KNN (Testing Model) to apply because it reduces variance and helps to avoid overfitting. I had not considered that it is mostly used for artificial neural networks, classification and regression trees, and subset selection in linear regression.\n",
    "\n",
    "\n",
    "- Fit this model to the training data, try to predict labels (for both training and test sets), and measure the F<sub>1</sub> score. Repeat this process with different training set sizes (100, 200, 300), keeping test set constant.\n",
    "\n",
    "\n",
    "Produce a table showing training time, prediction time, F<sub>1</sub> score on training set and F<sub>1</sub> score on test set, for each training set size."
   ]
  },
  {
   "cell_type": "code",
   "execution_count": 214,
   "metadata": {
    "collapsed": false
   },
   "outputs": [
    {
     "data": {
      "text/plain": [
       "%%%%%%%%%%%%%%%%%%%%%%%%%%%%%%%%%%%%%%%%\n",
       "Testing Model Bagging Classifier with KNN\n",
       "%%%%%%%%%%%%%%%%%%%%%%%%%%%%%%%%%%%%%%%%\n",
       "------------------------------------------\n",
       "Training set size: 100\n",
       "Training BaggingClassifier...\n",
       "Done!\n",
       "Training time (secs): 0.036\n",
       "Predicting labels using BaggingClassifier...\n",
       "Done!\n",
       "Prediction time (secs): 0.010\n",
       "F1 score for training set: 0.842767295597\n",
       "Predicting labels using BaggingClassifier...\n",
       "Done!\n",
       "Prediction time (secs): 0.018\n",
       "F1 score for test set: 0.805970149254\n",
       "------------------------------------------\n",
       "Training set size: 200\n",
       "Training BaggingClassifier...\n",
       "Done!\n",
       "Training time (secs): 0.037\n",
       "Predicting labels using BaggingClassifier...\n",
       "Done!\n",
       "Prediction time (secs): 0.018\n",
       "F1 score for training set: 0.860927152318\n",
       "Predicting labels using BaggingClassifier...\n",
       "Done!\n",
       "Prediction time (secs): 0.018\n",
       "F1 score for test set: 0.766666666667\n",
       "------------------------------------------\n",
       "Training set size: 300\n",
       "Training BaggingClassifier...\n",
       "Done!\n",
       "Training time (secs): 0.036\n",
       "Predicting labels using BaggingClassifier...\n",
       "Done!\n",
       "Prediction time (secs): 0.035\n",
       "F1 score for training set: 0.864745011086\n",
       "Predicting labels using BaggingClassifier...\n",
       "Done!\n",
       "Prediction time (secs): 0.017\n",
       "F1 score for test set: 0.821917808219"
      ]
     },
     "execution_count": 214,
     "metadata": {},
     "output_type": "execute_result"
    }
   ],
   "source": [
    "#With training sizes 100, 200, 300\n",
    "train_num = [100, 200, 300]\n",
    "\n",
    "#models\n",
    "models = {\"SVM classifier\": SVM_clf, \\\n",
    "         \"Randomized Forest\": RF_clf, \"Bagging Classifier with KNN\": bagging_clf}\n",
    "\n",
    "#create table\n",
    "create_table(train_num, models, X_all, y_all)\n",
    "\n",
    "#Below is Model #3 (Bagging Classifier with KNN)"
   ]
  },
  {
   "cell_type": "markdown",
   "metadata": {},
   "source": [
    "## 5. Choosing the Best Model\n",
    "\n",
    "1. Based on the experiments you performed earlier, in 1-2 paragraphs explain to the board of supervisors what single model you chose as the best model. Which model is generally the most appropriate based on the available data, limited resources, cost, and performance?\n",
    "2. In 1-2 paragraphs explain to the board of supervisors in layman's terms how the final model chosen is supposed to work (for example if you chose a Decision Tree or Support Vector Machine, how does it make a prediction).\n",
    "3. Fine-tune the model. Use Gridsearch with at least one important parameter tuned and with at least 3 settings. Use the entire training set for this.\n",
    "4. What is the model's final F<sub>1</sub> score?"
   ]
  },
  {
   "cell_type": "markdown",
   "metadata": {},
   "source": [
    "**Answer: **\n",
    "\n",
    "**1. **\n",
    " Based on the available data, limited resources, cost, and performance I chose \"Support Vector Classification\" or \"SVM\" as the best model. I followed the logic of the Machine Learning scikit-learn diagram [ML scikit-learn diagram](http://scikit-learn.org/stable/tutorial/machine_learning_map/). Given that I count with less than 100k samples, that I am working with non text data, and that SVM classification is known to be more accurate than Decision Tree classification. [SVM classification](http://web.stanford.edu/dept/itss/docs/oracle/10g/text.101/b10729/classify.htm#i1007173). I also discared the Bagging classifier because it is mostly used for artificial neural networks, classification, regression trees, and subset selection in linear regression [Bootstrap aggregating](https://en.wikipedia.org/wiki/Bootstrap_aggregating). Of course I also discared the linear SVC because compared to the nonlinear SVC, the linear SVC tends to return an underfit model [linear SVC](http://scikit-learn.org/stable/modules/svm.html#classification). In the end following the logic of the diagram I was lead to work with the non linear SVM model."
    ]
  },
  
  {
   "cell_type": "code",
   "execution_count": 312,
   "metadata": {
    "collapsed": false
   },
   "outputs": [

    {
     "data": {
      "text/plain": []
     },
     "execution_count": 312,
     "metadata": {},
     "output_type": "execute_result"
    },
    {
     "data": {
      "image/png": "[encoded data removed]",
      "text/plain": []
     },
     "metadata": {},
     "output_type": "display_data"
    }
    
    ],
   "source": [
    
    "#Refer to Line 312 from student_intervention_Edited.py\n",
    "\n",
    "#train_num = [100, 200, 300] #training sizes\n",
    "\n",
    "#models = {\"SVM classifier\": SVM_clf, \"Randomized Forest\": RF_clf, \"Bagging Classifier with KNN\": bagging_clf}\n",
    "\n",
    "all_tables(models, train_num, X, y)\n",
    "\n",
    "#Below are all the tables from all the Models"
    
   ]
  }, 
  
 {
   "cell_type": "markdown",
   "metadata": {},
   "source": [
    "**2. **\n",
    "How SVM works: SVM/SVC uses the kernel technique to transform the data and based on these complex transformations SVC figures out how to seperate the data based on defined labels or outputs. [more about SVC](http://www.yaksis.com/posts/why-use-svm.html)"
   ]
  },
  
  {
   "cell_type": "markdown",
   "metadata": {},
   "source": [
    "**3. **"
   ]
  },
  {
   "cell_type": "code",
   "execution_count": 225,
   "metadata": {
    "collapsed": true
   },
   "outputs": [
    {
     "data": {
      "text/plain": [
       "%%%%%%%%%%%%%%%%%%%%%%%%%%%%\n",
       "Fine-tuning SVM-model: \n",
       "%%%%%%%%%%%%%%%%%%%%%%%%%%%%\n",
       "------------------------------------------\n",
       "Training set size: 300\n",
       "Training GridSearchCV...\n",
       "Done!\n",
       "Training time (secs): 15.105\n",
       "Predicting labels using GridSearchCV...\n",
       "Done!\n",
       "Prediction time (secs): 0.006\n",
       "F1 score for training set: 0.802395209581\n",
       "Predicting labels using GridSearchCV...\n",
       "Done!\n",
       "Prediction time (secs): 0.002\n",
       "F1 score for test set: 0.805031446541\n",
       "Best parameters for the final tuned SVM model: {'kernel': 'sigmoid', 'C': 1, 'degree': 3}\n",
       "Finished"
      ]
     },
     "execution_count": 225,
     "metadata": {},
     "output_type": "execute_result"
    }
   ],
   "source": [
    "# TODO: Fine-tune your model and report the best F1 score\n",
    "from sklearn.grid_search import GridSearchCV\n",
    "\n",
    "def fine_tuning_SVM(parameters, SVM_clf, features_data, target_data):\n",
    "    # Fine-tuning SVM model\n",
    "    final_svm_clf = GridSearchCV(SVM_clf, parameters, scoring='f1')\n",
    "    print \"%%%%%%%%%%%%%%%%%%%%%%%%%%%%\"\n",
    "    print \"Fine-tuning SVM-model: \"\n",
    "    print \"%%%%%%%%%%%%%%%%%%%%%%%%%%%%\"\n",
    "    X_train, y_train, X_test, y_test = strat_shuffle_split(features_data, target_data)\n",
    "    train_predict(final_svm_clf, X_train, y_train, X_test, y_test, grid=True)\n",
    "    print \"Best parameters for the final tuned SVM model: \" + str(final_svm_clf.best_params_)\n",
    "\n",
    "#parameters\n",
    "parameters = {'kernel':('linear','rbf', 'poly','sigmoid'), 'C':[1, 50], 'degree':[3,6]}\n",
    "\n",
    "#Fine-tuning SVM model\n",
    "fine_tuning_SVM(parameters, SVM_clf, features_data, target_data)\n",
    "print \"Finished\""
   ]
  },
  {
   "cell_type": "markdown",
   "metadata": {},
   "source": [
    "**4. **\n",
    "    The F1 score for training set: 0.802395209581\n",
    "    and The F1 score for test set: 0.805031446541\n",
    "\n",
    "Note: an **F1 score** reaches its **best value** at **1** and worst at **0**.\n",
    "\n",
    "*Additional information: [Graph of classifiers](http://scikit-learn.org/stable/auto_examples/classification/plot_classifier_comparison.html)"
   ]
  }
 ],
 "metadata": {
  "kernelspec": {
   "display_name": "Python 2",
   "language": "python",
   "name": "python2"
  },
  "language_info": {
   "codemirror_mode": {
    "name": "ipython",
    "version": 2
   },
   "file_extension": ".py",
   "mimetype": "text/x-python",
   "name": "python",
   "nbconvert_exporter": "python",
   "pygments_lexer": "ipython2",
   "version": "2.7.11"
  }
 },
 "nbformat": 4,
 "nbformat_minor": 0
}

